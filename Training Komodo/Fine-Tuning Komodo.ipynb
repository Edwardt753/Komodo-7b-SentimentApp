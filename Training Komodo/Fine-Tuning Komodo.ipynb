{
 "cells": [
  {
   "cell_type": "code",
   "execution_count": null,
   "id": "8ed86491-07a5-4733-adde-1b8c689ecd8a",
   "metadata": {},
   "outputs": [
    {
     "name": "stderr",
     "output_type": "stream",
     "text": [
      "C:\\Users\\Komodo\\anaconda3\\envs\\llm-kodomo\\Lib\\site-packages\\tqdm\\auto.py:21: TqdmWarning: IProgress not found. Please update jupyter and ipywidgets. See https://ipywidgets.readthedocs.io/en/stable/user_install.html\n",
      "  from .autonotebook import tqdm as notebook_tqdm\n"
     ]
    },
    {
     "name": "stdout",
     "output_type": "stream",
     "text": [
      "DatasetDict({\n",
      "    train: Dataset({\n",
      "        features: ['Sentiment', 'Text Tweet', 'label'],\n",
      "        num_rows: 1599\n",
      "    })\n",
      "    validation: Dataset({\n",
      "        features: ['Sentiment', 'Text Tweet', 'label'],\n",
      "        num_rows: 400\n",
      "    })\n",
      "})\n",
      "Percentage of Positive labels in training set: 0.3545966228893058\n"
     ]
    }
   ],
   "source": [
    "import numpy as np\n",
    "import pandas as pd\n",
    "import torch\n",
    "from datasets import Dataset, DatasetDict\n",
    "from transformers import (\n",
    "    AutoTokenizer, AutoModelForSequenceClassification,\n",
    "    BitsAndBytesConfig, DataCollatorWithPadding, TrainingArguments, Trainer\n",
    ")\n",
    "from peft import get_peft_model, LoraConfig\n",
    "import evaluate\n",
    "from sklearn.model_selection import train_test_split\n",
    "\n",
    "# Memuat File Dataset\n",
    "df = pd.read_csv('Dataset_Main_2000.csv')\n",
    "\n",
    "# Mapping dan mengubah kolom sentimen menjadi dalam bentuk numerik agar lebih dipahami model\n",
    "label_mapping = {'Negative': 0, 'Neutral': 1, 'Positive': 2}\n",
    "df['label'] = df['Sentiment'].map(label_mapping)\n",
    "\n",
    "# Membagi dataset menjadi data training dan data validation\n",
    "train_df, val_df = train_test_split(df, test_size=0.2, random_state=42)\n",
    "train_df.reset_index(drop=True, inplace=True)\n",
    "val_df.reset_index(drop=True, inplace=True)\n",
    "\n",
    "# Membagi menjadi 2 dataset yang berbeda yaitu dataset \"TRAIN\" dan dataset \"VALIDATION\"\n",
    "train_dataset = Dataset.from_pandas(train_df)\n",
    "val_dataset = Dataset.from_pandas(val_df)\n",
    "dataset = DatasetDict({\n",
    "    'train': train_dataset,\n",
    "    'validation': val_dataset\n",
    "})\n",
    "print(dataset)\n",
    "\n",
    "# Pengecekan label untuk memastikan distribusi dan menghindari overfitting\n",
    "label_counts = np.array(dataset['train']['label'])\n",
    "percentage_positive = (label_counts == 2).sum() / len(label_counts)\n",
    "print(f\"Percentage of Positive labels in training set: {percentage_positive}\")\n"
   ]
  },
  {
   "cell_type": "code",
   "execution_count": null,
   "id": "7d129816-feba-4593-a7b4-d8082b9773e0",
   "metadata": {},
   "outputs": [
    {
     "name": "stderr",
     "output_type": "stream",
     "text": [
      "`low_cpu_mem_usage` was None, now default to True since model is quantized.\n",
      "Loading checkpoint shards: 100%|██████████| 6/6 [03:48<00:00, 38.03s/it]\n",
      "Some weights of LlamaForSequenceClassification were not initialized from the model checkpoint at Yellow-AI-NLP/komodo-7b-base and are newly initialized: ['score.weight']\n",
      "You should probably TRAIN this model on a down-stream task to be able to use it for predictions and inference.\n",
      "The new embeddings will be initialized from a multivariate normal distribution that has old embeddings' mean and covariance. As described in this article: https://nlp.stanford.edu/~johnhew/vocab-expansion.html. To disable this, use `mean_resizing=False`\n"
     ]
    },
    {
     "name": "stdout",
     "output_type": "stream",
     "text": [
      "token pad added\n"
     ]
    },
    {
     "name": "stderr",
     "output_type": "stream",
     "text": [
      "Map: 100%|██████████| 1599/1599 [00:00<00:00, 1767.19 examples/s]\n",
      "Map: 100%|██████████| 400/400 [00:00<00:00, 8771.07 examples/s]\n"
     ]
    },
    {
     "name": "stdout",
     "output_type": "stream",
     "text": [
      "trainable params: 5,812,224 || all params: 6,625,492,992 || trainable%: 0.0877\n"
     ]
    },
    {
     "name": "stderr",
     "output_type": "stream",
     "text": [
      "C:\\Users\\Komodo\\AppData\\Local\\Temp\\3\\ipykernel_23108\\1666046834.py:99: FutureWarning: `tokenizer` is deprecated and will be removed in version 5.0.0 for `Trainer.__init__`. Use `processing_class` instead.\n",
      "  trainer = Trainer(\n"
     ]
    },
    {
     "data": {
      "text/html": [
       "\n",
       "    <div>\n",
       "      \n",
       "      <progress value='1200' max='1200' style='width:300px; height:20px; vertical-align: middle;'></progress>\n",
       "      [1200/1200 10:14:22, Epoch 3/3]\n",
       "    </div>\n",
       "    <table border=\"1\" class=\"dataframe\">\n",
       "  <thead>\n",
       " <tr style=\"text-align: left;\">\n",
       "      <th>Epoch</th>\n",
       "      <th>Training Loss</th>\n",
       "      <th>Validation Loss</th>\n",
       "      <th>Accuracy</th>\n",
       "    </tr>\n",
       "  </thead>\n",
       "  <tbody>\n",
       "    <tr>\n",
       "      <td>1</td>\n",
       "      <td>No log</td>\n",
       "      <td>0.481794</td>\n",
       "      <td>{'accuracy': 0.8175}</td>\n",
       "    </tr>\n",
       "    <tr>\n",
       "      <td>2</td>\n",
       "      <td>0.791300</td>\n",
       "      <td>0.433350</td>\n",
       "      <td>{'accuracy': 0.9025}</td>\n",
       "    </tr>\n",
       "    <tr>\n",
       "      <td>3</td>\n",
       "      <td>0.244800</td>\n",
       "      <td>0.395311</td>\n",
       "      <td>{'accuracy': 0.91}</td>\n",
       "    </tr>\n",
       "  </tbody>\n",
       "</table><p>"
      ],
      "text/plain": [
       "<IPython.core.display.HTML object>"
      ]
     },
     "metadata": {},
     "output_type": "display_data"
    },
    {
     "name": "stderr",
     "output_type": "stream",
     "text": [
      "C:\\Users\\Komodo\\AppData\\Roaming\\Python\\Python312\\site-packages\\peft\\utils\\save_and_load.py:257: UserWarning: Setting `save_embedding_layers` to `True` as the embedding layer has been resized during finetuning.\n",
      "  warnings.warn(\n",
      "C:\\Users\\Komodo\\AppData\\Roaming\\Python\\Python312\\site-packages\\peft\\utils\\save_and_load.py:257: UserWarning: Setting `save_embedding_layers` to `True` as the embedding layer has been resized during finetuning.\n",
      "  warnings.warn(\n",
      "C:\\Users\\Komodo\\AppData\\Roaming\\Python\\Python312\\site-packages\\peft\\utils\\save_and_load.py:257: UserWarning: Setting `save_embedding_layers` to `True` as the embedding layer has been resized during finetuning.\n",
      "  warnings.warn(\n",
      "C:\\Users\\Komodo\\AppData\\Roaming\\Python\\Python312\\site-packages\\peft\\utils\\save_and_load.py:257: UserWarning: Setting `save_embedding_layers` to `True` as the embedding layer has been resized during finetuning.\n",
      "  warnings.warn(\n"
     ]
    },
    {
     "data": {
      "text/plain": [
       "TrainOutput(global_step=1200, training_loss=0.4640062681833903, metrics={'train_runtime': 36904.3726, 'train_samples_per_second': 0.13, 'train_steps_per_second': 0.033, 'total_flos': 9.552265766712115e+16, 'train_loss': 0.4640062681833903, 'epoch': 3.0})"
      ]
     },
     "execution_count": 2,
     "metadata": {},
     "output_type": "execute_result"
    }
   ],
   "source": [
    "# Konfigurasi dari BnB dengan kuantitasi 4-bit\n",
    "compute_dtype = getattr(torch, \"bfloat16\")\n",
    "\n",
    "bnb_config = BitsAndBytesConfig(\n",
    "    load_in_4bit=True, # Mengaktifkan 4bit quantization\n",
    "    bnb_4bit_quant_type=\"nf4\", # Normalized Float 4-bit=>format kuantisasi\n",
    "    bnb_4bit_compute_dtype=compute_dtype, # Tipe untuk presisi komputasi saat melakukan training, harus menggunakan bfloat16 untuk menghindari validation loss nan\n",
    "    bnb_4bit_use_double_quant=True,\n",
    ")\n",
    "\n",
    "model_checkpoint = 'Yellow-AI-NLP/komodo-7b-base'\n",
    "\n",
    "# Define label maps\n",
    "id2label = {0: \"Negative\", 1: \"Neutral\", 2: \"Positive\"}\n",
    "label2id = {\"Negative\": 0, \"Neutral\": 1, \"Positive\": 2}\n",
    "\n",
    "# Load Model hasil \"Pre-Trained\"\n",
    "model = AutoModelForSequenceClassification.from_pretrained(\n",
    "    model_checkpoint,\n",
    "    quantization_config=bnb_config,\n",
    "    torch_dtype=compute_dtype,\n",
    "    num_labels=3,\n",
    "    id2label=id2label,\n",
    "    label2id=label2id\n",
    ")\n",
    "\n",
    "# Membuat tokenizer model\n",
    "tokenizer = AutoTokenizer.from_pretrained(model_checkpoint, add_prefix_space=True)\n",
    "\n",
    "# Menambah pad token apabila tidak ada\n",
    "if tokenizer.pad_token is None:\n",
    "    print(\"token pad added\")\n",
    "    tokenizer.add_special_tokens({'pad_token': '[PAD]'})\n",
    "    model.resize_token_embeddings(len(tokenizer))\n",
    "\n",
    "# tokenize function\n",
    "def tokenize_function(examples):\n",
    "    text = examples[\"Text Tweet\"]  # Extract text from \"Text Tweet\" column\n",
    "    tokenizer.truncation_side = \"left\"\n",
    "    return tokenizer(text, truncation=True, max_length=512, padding=\"max_length\")\n",
    "\n",
    "# Tokenize the datasets\n",
    "tokenized_dataset = dataset.map(tokenize_function, batched=True)\n",
    "\n",
    "# Remove original columns\n",
    "tokenized_dataset = tokenized_dataset.remove_columns([\"Sentiment\", \"Text Tweet\"])\n",
    "\n",
    "# Memastikan panjang setiap batch dengan menambah pad token\n",
    "data_collator = DataCollatorWithPadding(tokenizer=tokenizer)\n",
    "\n",
    "# Load accuracy evaluation metric\n",
    "accuracy = evaluate.load(\"accuracy\")\n",
    "\n",
    "# Define evaluation function\n",
    "def compute_metrics(p):\n",
    "    predictions, labels = p\n",
    "    predictions = np.argmax(predictions, axis=1)\n",
    "    return {\"accuracy\": accuracy.compute(predictions=predictions, references=labels)}\n",
    "\n",
    "# Objek konfigurasi untuk LoRA dari Library Python PEFT(Parameter-Efficient Fine-Tuning)\n",
    "peft_config = LoraConfig(\n",
    "    task_type=\"SEQ_CLS\", # Fungsi tugas yaitu Sequence Classification\n",
    "    r=4, # Menentukan rank dimensi matriks untuk ukuran parameter tambahan yang dilatih, semakin kecil semakin kecil memorinya\n",
    "    lora_alpha=32, # Faktor skala matriks mengatur kontribusi lora terhadap model (32 = cukup tinggi)\n",
    "    lora_dropout=0.01, # dibuat 1% agar mengurangi overfitting\n",
    "    target_modules=['gate_proj', 'up_proj', 'down_proj', 'score.base_layer']\n",
    ")\n",
    "\n",
    "# Apply the LoRA configuration to the model\n",
    "model = get_peft_model(model, peft_config)\n",
    "\n",
    "# Print trainable parameters to verify\n",
    "model.print_trainable_parameters()\n",
    "\n",
    "# Hyperparameters\n",
    "lr = 1e-5\n",
    "batch_size = 4\n",
    "num_epochs = 3\n",
    "\n",
    "# Memastikan untuk menggunakan GPU (Compute Unified Device Architecture)\n",
    "device = torch.device(\"cuda\" if torch.cuda.is_available() else \"cpu\")\n",
    "model.to(device)\n",
    "\n",
    "# Training arguments\n",
    "output_dir = \"C:/Users/Komodo/Documents/Komodo-7b/training_final_finetuned_2000_v1\"\n",
    "training_args = TrainingArguments(\n",
    "    output_dir=output_dir, # Hasil dari model yang sudah train\n",
    "    learning_rate=lr, # Kecepatan belajar dari model llm, dibuat kecil agar stabil nanti bisa mengganggu training loo dan validation loss\n",
    "    per_device_train_batch_size=batch_size, # Mengatur berapa banyak sanmpel yang di train setiap kalinya agar lebih cepat, nilai 4 agar tidak banyak membebeani GPU\n",
    "    per_device_eval_batch_size=batch_size,\n",
    "    num_train_epochs=num_epochs,\n",
    "    weight_decay=0.01,\n",
    "    eval_strategy=\"epoch\",\n",
    "    save_strategy=\"epoch\",\n",
    "    load_best_model_at_end=True,\n",
    ")\n",
    "\n",
    "# Create trainer object\n",
    "trainer = Trainer(\n",
    "    model=model,\n",
    "    args=training_args,\n",
    "    train_dataset=tokenized_dataset[\"train\"],\n",
    "    eval_dataset=tokenized_dataset[\"validation\"],\n",
    "    tokenizer=tokenizer,\n",
    "    data_collator=data_collator,\n",
    "    compute_metrics=compute_metrics,\n",
    ")\n",
    "\n",
    "# Train the model\n",
    "trainer.train()\n"
   ]
  },
  {
   "cell_type": "code",
   "execution_count": 3,
   "id": "18c41306-8499-4442-a9e9-52c6ce3f640c",
   "metadata": {},
   "outputs": [
    {
     "name": "stdout",
     "output_type": "stream",
     "text": [
      "Trained model predictions:\n",
      "--------------------------\n",
      "Biasa saja sih - Neutral\n",
      "Gausah ditonton gabener banget - Negative\n",
      "Koten ga guna - Negative\n",
      "Bego ni yang buat video - Negative\n",
      "Konten ga lengkap - Negative\n"
     ]
    }
   ],
   "source": [
    "device = torch.device(\"cuda\" if torch.cuda.is_available() else \"cpu\")\n",
    "model.to(device)\n",
    "\n",
    "text_list = [\"Biasa saja sih\",\"Gausah ditonton gabener banget\",\"Koten ga guna\",\"Bego ni yang buat video\",\"Konten ga lengkap\"]\n",
    "\n",
    "print(\"Trained model predictions:\")\n",
    "print(\"--------------------------\")\n",
    "for text in text_list:\n",
    "    inputs = tokenizer.encode(text, return_tensors=\"pt\").to(device)  # Ensure inputs are on the same device as the model\n",
    "\n",
    "    logits = model(inputs).logits\n",
    "    predictions = torch.max(logits, 1).indices\n",
    "\n",
    "    print(text + \" - \" + id2label[predictions.tolist()[0]])\n"
   ]
  },
  {
   "cell_type": "code",
   "execution_count": 4,
   "id": "018b5892-643c-41e4-9352-b93b2c3142ca",
   "metadata": {},
   "outputs": [
    {
     "data": {
      "text/html": [],
      "text/plain": [
       "<IPython.core.display.HTML object>"
      ]
     },
     "metadata": {},
     "output_type": "display_data"
    },
    {
     "name": "stdout",
     "output_type": "stream",
     "text": [
      "Confusion Matrix:\n",
      "[[129   8   1]\n",
      " [ 11 101   3]\n",
      " [  4   9 134]]\n"
     ]
    }
   ],
   "source": [
    "from sklearn.metrics import confusion_matrix\n",
    "\n",
    "# Step 1: Get predictions from the model on the validation set\n",
    "predictions = trainer.predict(tokenized_dataset[\"validation\"])\n",
    "\n",
    "# Step 2: Extract predicted labels and true labels\n",
    "preds = np.argmax(predictions.predictions, axis=1)\n",
    "true_labels = predictions.label_ids\n",
    "\n",
    "# Step 3: Calculate the confusion matrix\n",
    "conf_matrix = confusion_matrix(true_labels, preds)\n",
    "\n",
    "# Step 4: Print or save the confusion matrix\n",
    "print(\"Confusion Matrix:\")\n",
    "print(conf_matrix)\n"
   ]
  },
  {
   "cell_type": "code",
   "execution_count": 5,
   "id": "d9d07c4a-890f-41fa-adfa-b6dc5e4c8877",
   "metadata": {},
   "outputs": [
    {
     "name": "stdout",
     "output_type": "stream",
     "text": [
      "Classification Report:\n",
      "              precision    recall  f1-score   support\n",
      "\n",
      "    Negative       0.90      0.93      0.91       138\n",
      "     Neutral       0.86      0.88      0.87       115\n",
      "    Positive       0.97      0.91      0.94       147\n",
      "\n",
      "    accuracy                           0.91       400\n",
      "   macro avg       0.91      0.91      0.91       400\n",
      "weighted avg       0.91      0.91      0.91       400\n",
      "\n"
     ]
    }
   ],
   "source": [
    "from sklearn.metrics import classification_report\n",
    "\n",
    "# Assuming `true_labels` and `preds` from the previous prediction code\n",
    "print(\"Classification Report:\")\n",
    "print(classification_report(true_labels, preds, target_names=[\"Negative\", \"Neutral\", \"Positive\"]))"
   ]
  },
  {
   "cell_type": "code",
   "execution_count": null,
   "id": "17af1f5a-c374-411c-ad1f-899a33df0b13",
   "metadata": {},
   "outputs": [],
   "source": []
  }
 ],
 "metadata": {
  "kernelspec": {
   "display_name": "Python 3 (ipykernel)",
   "language": "python",
   "name": "python3"
  },
  "language_info": {
   "codemirror_mode": {
    "name": "ipython",
    "version": 3
   },
   "file_extension": ".py",
   "mimetype": "text/x-python",
   "name": "python",
   "nbconvert_exporter": "python",
   "pygments_lexer": "ipython3",
   "version": "3.12.7"
  }
 },
 "nbformat": 4,
 "nbformat_minor": 5
}
